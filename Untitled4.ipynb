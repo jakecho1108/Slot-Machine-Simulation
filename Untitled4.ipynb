{
 "cells": [
  {
   "cell_type": "code",
   "execution_count": null,
   "id": "8c70f429",
   "metadata": {},
   "outputs": [],
   "source": [
    "from BaseSimulation import SlotMachine\n",
    "import itertools\n",
    "\n",
    "points_200= {\"AAA\":200}\n",
    "combo_100 = [''.join(candidate) for candidate in itertools.product('AB', 'AB', 'AB')]\n",
    "points_100 = {combo: 100 for combo in combo_100}\n",
    "combo_50 = [''.join(candidate) for candidate in itertools.product('ACDEF', 'ACDE', 'ACDE')]\n",
    "points_50 = {combo: 50 for combo in combo_50}\n",
    "combo_20 = [''.join(candidate) for candidate in itertools.product('AGHIJK', 'AFGHIJK', 'AFGHIJK')]\n",
    "points_20 = {combo: 20 for combo in combo_20}\n",
    "combo_5a = [''.join(candidate) for candidate in itertools.product('ABCDEFGHIJK', 'ABCDEFGHIJK', 'ABCDEFGHIJK')]\n",
    "points_5a = {combo: 5 for combo in combo_5a}\n",
    "combo_5b = ['AA' + letter for letter in 'ABCDEFGHIJKLMNOPQRSTUV']\n",
    "points_5b = {combo: 5 for combo in combo_5b}\n",
    "combo_5c = ['A' + letter + 'A' for letter in 'ABCDEFGHIJKLMNOPQRSTUV']\n",
    "points_5c = {combo: 5 for combo in combo_5c}\n",
    "combo_5d = [letter + 'AA'  for letter in 'ABCDEFGHIJKLMNOPQRSTUV']\n",
    "points_5d = {combo: 5 for combo in combo_5d}\n",
    "\n",
    "combo_2a = ['A{}{}'.format(second_letter, third_letter) for second_letter in 'ABCDEFGHIJKLMNOPQRSTUV' for third_letter in 'ABCDEFGHIJKLMNOPQRSTUV']\n",
    "points_2a = {combo: 2 for combo in combo_2a}\n",
    "combo_2b = ['{}A{}'.format(first_letter, third_letter) for first_letter in 'ABCDEFGHIJKLMNOPQRSTUV' for third_letter in 'ABCDEFGHIJKLMNOPQRSTUV']\n",
    "points_2b = {combo: 2 for combo in combo_2b}\n",
    "combo_2c = ['{}{}A'.format(first_letter, second_letter) for first_letter in 'ABCDEFGHIJKLMNOPQRSTUV' for second_letter in 'ABCDEFGHIJKLMNOPQRSTUV']\n",
    "points_2c = {combo: 2 for combo in combo_2c}\n",
    "\n"
   ]
  },
  {
   "cell_type": "code",
   "execution_count": null,
   "id": "f25cd050",
   "metadata": {},
   "outputs": [],
   "source": [
    "pointsdict = {}\n",
    "dictionaries_to_update = [points_2a, points_2b, points_2c, points_5a, points_5b, points_5c, points_5d, points_20, points_50, points_100, points_200]\n",
    "\n",
    "for dictionary in dictionaries_to_update:\n",
    "    pointsdict.update(dictionary)\n",
    "\n",
    "\n",
    "slot1 = SlotMachine(3, pointsdict)\n",
    "\n",
    "print(slot1.simulation(100000,2000000,1))"
   ]
  }
 ],
 "metadata": {
  "kernelspec": {
   "display_name": "Python 3 (ipykernel)",
   "language": "python",
   "name": "python3"
  },
  "language_info": {
   "codemirror_mode": {
    "name": "ipython",
    "version": 3
   },
   "file_extension": ".py",
   "mimetype": "text/x-python",
   "name": "python",
   "nbconvert_exporter": "python",
   "pygments_lexer": "ipython3",
   "version": "3.10.13"
  },
  "toc": {
   "base_numbering": 1,
   "nav_menu": {},
   "number_sections": false,
   "sideBar": true,
   "skip_h1_title": false,
   "title_cell": "Table of Contents",
   "title_sidebar": "Contents",
   "toc_cell": false,
   "toc_position": {},
   "toc_section_display": true,
   "toc_window_display": false
  }
 },
 "nbformat": 4,
 "nbformat_minor": 5
}
